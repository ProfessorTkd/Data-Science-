{
 "cells": [
  {
   "cell_type": "code",
   "execution_count": null,
   "id": "6cfb6320-f528-462c-bae4-0331efc8fed7",
   "metadata": {},
   "outputs": [],
   "source": [
    "#Shift + Enter to run the code"
   ]
  },
  {
   "cell_type": "code",
   "execution_count": null,
   "id": "1d98fa4b-3448-4f5e-9ec5-f28bc9c294ba",
   "metadata": {},
   "outputs": [],
   "source": [
    "#Python Basics"
   ]
  },
  {
   "cell_type": "code",
   "execution_count": 1,
   "id": "cdf95cc1-a4a1-4e6d-ba27-ac40a8d0931f",
   "metadata": {},
   "outputs": [
    {
     "data": {
      "text/plain": [
       "2"
      ]
     },
     "execution_count": 1,
     "metadata": {},
     "output_type": "execute_result"
    }
   ],
   "source": [
    "1+1 #python supports scripting"
   ]
  },
  {
   "cell_type": "code",
   "execution_count": 3,
   "id": "41f1987e-dcef-4539-9fc4-6c5947d5feea",
   "metadata": {},
   "outputs": [
    {
     "data": {
      "text/plain": [
       "10"
      ]
     },
     "execution_count": 3,
     "metadata": {},
     "output_type": "execute_result"
    }
   ],
   "source": [
    "5+5"
   ]
  },
  {
   "cell_type": "code",
   "execution_count": null,
   "id": "5980a077-77fd-43d0-8388-1cdff3555e7c",
   "metadata": {},
   "outputs": [],
   "source": [
    "#Variable"
   ]
  },
  {
   "cell_type": "code",
   "execution_count": 5,
   "id": "bc7da775-bda3-4db8-a53a-dd5854597c80",
   "metadata": {},
   "outputs": [],
   "source": [
    "a = 10"
   ]
  },
  {
   "cell_type": "code",
   "execution_count": 6,
   "id": "df5297d1-e575-4dec-bc1c-4f3550d62d7f",
   "metadata": {},
   "outputs": [
    {
     "data": {
      "text/plain": [
       "10"
      ]
     },
     "execution_count": 6,
     "metadata": {},
     "output_type": "execute_result"
    }
   ],
   "source": [
    "a"
   ]
  },
  {
   "cell_type": "code",
   "execution_count": 7,
   "id": "b7b45350-15a1-4d74-ba62-a139b70d9563",
   "metadata": {},
   "outputs": [],
   "source": [
    "tapish = 1100"
   ]
  },
  {
   "cell_type": "code",
   "execution_count": 8,
   "id": "799f941e-bed1-4f71-b513-4ed2c3b893f1",
   "metadata": {},
   "outputs": [
    {
     "data": {
      "text/plain": [
       "1100"
      ]
     },
     "execution_count": 8,
     "metadata": {},
     "output_type": "execute_result"
    }
   ],
   "source": [
    "tapish"
   ]
  },
  {
   "cell_type": "code",
   "execution_count": 9,
   "id": "82b08bfd-15eb-4044-8699-a94424d99a1e",
   "metadata": {},
   "outputs": [
    {
     "data": {
      "text/plain": [
       "1110"
      ]
     },
     "execution_count": 9,
     "metadata": {},
     "output_type": "execute_result"
    }
   ],
   "source": [
    "a+tapish"
   ]
  },
  {
   "cell_type": "code",
   "execution_count": null,
   "id": "dd15f779-e72d-4867-8c89-6adec719de2b",
   "metadata": {},
   "outputs": [],
   "source": [
    "#type function"
   ]
  },
  {
   "cell_type": "code",
   "execution_count": 11,
   "id": "869f38d1-fec0-40dc-aabd-cc39fa9a6765",
   "metadata": {},
   "outputs": [
    {
     "data": {
      "text/plain": [
       "int"
      ]
     },
     "execution_count": 11,
     "metadata": {},
     "output_type": "execute_result"
    }
   ],
   "source": [
    "type(a)"
   ]
  },
  {
   "cell_type": "code",
   "execution_count": 12,
   "id": "ee7487a8-7fe0-47b5-9f63-9e4098de890f",
   "metadata": {},
   "outputs": [
    {
     "data": {
      "text/plain": [
       "int"
      ]
     },
     "execution_count": 12,
     "metadata": {},
     "output_type": "execute_result"
    }
   ],
   "source": [
    "type(tapish)"
   ]
  },
  {
   "cell_type": "code",
   "execution_count": 13,
   "id": "b164fd85-a792-4c28-8ff7-840682426bb0",
   "metadata": {},
   "outputs": [],
   "source": [
    "b = 2.09"
   ]
  },
  {
   "cell_type": "code",
   "execution_count": 14,
   "id": "5b63b30e-34d0-45b9-aa30-54470c0a6af8",
   "metadata": {},
   "outputs": [
    {
     "data": {
      "text/plain": [
       "float"
      ]
     },
     "execution_count": 14,
     "metadata": {},
     "output_type": "execute_result"
    }
   ],
   "source": [
    "type(b)"
   ]
  },
  {
   "cell_type": "code",
   "execution_count": 15,
   "id": "7b935809-4183-4a54-812b-b373c8c720fb",
   "metadata": {},
   "outputs": [],
   "source": [
    "c = 45.5433"
   ]
  },
  {
   "cell_type": "code",
   "execution_count": 16,
   "id": "d7f39ae2-49c3-4dce-9811-df82f55d66fc",
   "metadata": {},
   "outputs": [
    {
     "data": {
      "text/plain": [
       "float"
      ]
     },
     "execution_count": 16,
     "metadata": {},
     "output_type": "execute_result"
    }
   ],
   "source": [
    "type(c)"
   ]
  },
  {
   "cell_type": "code",
   "execution_count": 17,
   "id": "b745af1e-a6ef-489b-91cb-f2adf6dbd0eb",
   "metadata": {},
   "outputs": [],
   "source": [
    "d = \"tapish\""
   ]
  },
  {
   "cell_type": "code",
   "execution_count": 18,
   "id": "530b41b4-8046-40da-9c1e-6d658df164c4",
   "metadata": {},
   "outputs": [
    {
     "data": {
      "text/plain": [
       "str"
      ]
     },
     "execution_count": 18,
     "metadata": {},
     "output_type": "execute_result"
    }
   ],
   "source": [
    "type(d)"
   ]
  },
  {
   "cell_type": "code",
   "execution_count": 19,
   "id": "512f15ef-451c-4b42-8df9-a292b0bd77a8",
   "metadata": {},
   "outputs": [],
   "source": [
    "e = 'this is my class'"
   ]
  },
  {
   "cell_type": "code",
   "execution_count": 20,
   "id": "91a010be-a637-4114-8106-bbf6eb128d10",
   "metadata": {},
   "outputs": [
    {
     "data": {
      "text/plain": [
       "'this is my class'"
      ]
     },
     "execution_count": 20,
     "metadata": {},
     "output_type": "execute_result"
    }
   ],
   "source": [
    "e"
   ]
  },
  {
   "cell_type": "code",
   "execution_count": 21,
   "id": "56fb56dd-92e0-4a13-bff9-a02f52e64197",
   "metadata": {},
   "outputs": [
    {
     "data": {
      "text/plain": [
       "str"
      ]
     },
     "execution_count": 21,
     "metadata": {},
     "output_type": "execute_result"
    }
   ],
   "source": [
    "type(e)"
   ]
  },
  {
   "cell_type": "code",
   "execution_count": 22,
   "id": "9b926f83-4aac-437c-9e09-82ed93de2deb",
   "metadata": {},
   "outputs": [],
   "source": [
    "n = True"
   ]
  },
  {
   "cell_type": "code",
   "execution_count": 23,
   "id": "e2ad166c-05f3-4b37-ae0c-06b7325e3a22",
   "metadata": {},
   "outputs": [
    {
     "data": {
      "text/plain": [
       "bool"
      ]
     },
     "execution_count": 23,
     "metadata": {},
     "output_type": "execute_result"
    }
   ],
   "source": [
    "type(n)"
   ]
  },
  {
   "cell_type": "code",
   "execution_count": 24,
   "id": "df7bdf70-c2dc-4669-b7fa-29081f275ba8",
   "metadata": {},
   "outputs": [],
   "source": [
    "m = False"
   ]
  },
  {
   "cell_type": "code",
   "execution_count": 25,
   "id": "33e55719-74e3-469d-8a5c-41dd5bec3ca3",
   "metadata": {},
   "outputs": [
    {
     "data": {
      "text/plain": [
       "bool"
      ]
     },
     "execution_count": 25,
     "metadata": {},
     "output_type": "execute_result"
    }
   ],
   "source": [
    "type(m)"
   ]
  },
  {
   "cell_type": "code",
   "execution_count": 26,
   "id": "de54f543-c63a-404f-89e3-308d4ea8c2b9",
   "metadata": {},
   "outputs": [
    {
     "data": {
      "text/plain": [
       "1"
      ]
     },
     "execution_count": 26,
     "metadata": {},
     "output_type": "execute_result"
    }
   ],
   "source": [
    "n+m"
   ]
  },
  {
   "cell_type": "code",
   "execution_count": 27,
   "id": "e5af74d5-9420-428a-8bb9-eb54e179fe91",
   "metadata": {},
   "outputs": [
    {
     "data": {
      "text/plain": [
       "1"
      ]
     },
     "execution_count": 27,
     "metadata": {},
     "output_type": "execute_result"
    }
   ],
   "source": [
    "True * True"
   ]
  },
  {
   "cell_type": "code",
   "execution_count": 28,
   "id": "c1c16443-4e1c-48fb-b854-591fa03ae1ac",
   "metadata": {},
   "outputs": [
    {
     "data": {
      "text/plain": [
       "0"
      ]
     },
     "execution_count": 28,
     "metadata": {},
     "output_type": "execute_result"
    }
   ],
   "source": [
    "True * False"
   ]
  },
  {
   "cell_type": "code",
   "execution_count": 29,
   "id": "8ccda6fb-a2df-4cd3-9105-b01a5526d243",
   "metadata": {},
   "outputs": [
    {
     "ename": "ZeroDivisionError",
     "evalue": "division by zero",
     "output_type": "error",
     "traceback": [
      "\u001b[0;31m---------------------------------------------------------------------------\u001b[0m",
      "\u001b[0;31mZeroDivisionError\u001b[0m                         Traceback (most recent call last)",
      "Cell \u001b[0;32mIn[29], line 1\u001b[0m\n\u001b[0;32m----> 1\u001b[0m \u001b[38;5;28;43;01mTrue\u001b[39;49;00m\u001b[43m \u001b[49m\u001b[38;5;241;43m/\u001b[39;49m\u001b[43m \u001b[49m\u001b[38;5;28;43;01mFalse\u001b[39;49;00m\n",
      "\u001b[0;31mZeroDivisionError\u001b[0m: division by zero"
     ]
    }
   ],
   "source": [
    "True / False"
   ]
  },
  {
   "cell_type": "code",
   "execution_count": 30,
   "id": "faa4c0bb-c6da-48a2-9f9b-a4aeb16d6c2d",
   "metadata": {},
   "outputs": [
    {
     "ename": "ZeroDivisionError",
     "evalue": "division by zero",
     "output_type": "error",
     "traceback": [
      "\u001b[0;31m---------------------------------------------------------------------------\u001b[0m",
      "\u001b[0;31mZeroDivisionError\u001b[0m                         Traceback (most recent call last)",
      "Cell \u001b[0;32mIn[30], line 1\u001b[0m\n\u001b[0;32m----> 1\u001b[0m \u001b[38;5;241;43m1\u001b[39;49m\u001b[38;5;241;43m/\u001b[39;49m\u001b[38;5;241;43m0\u001b[39;49m\n",
      "\u001b[0;31mZeroDivisionError\u001b[0m: division by zero"
     ]
    }
   ],
   "source": [
    "1/0"
   ]
  },
  {
   "cell_type": "code",
   "execution_count": 31,
   "id": "3bebe27e-326f-4be1-b752-4adf857ada61",
   "metadata": {},
   "outputs": [],
   "source": [
    "v = 5 + 8j"
   ]
  },
  {
   "cell_type": "code",
   "execution_count": 32,
   "id": "cb0dadce-380c-41b3-be4e-85912fa4e36f",
   "metadata": {},
   "outputs": [
    {
     "data": {
      "text/plain": [
       "complex"
      ]
     },
     "execution_count": 32,
     "metadata": {},
     "output_type": "execute_result"
    }
   ],
   "source": [
    "type(v)"
   ]
  },
  {
   "cell_type": "code",
   "execution_count": 33,
   "id": "2731c481-7e1a-472d-81e5-73942da1ea68",
   "metadata": {},
   "outputs": [
    {
     "data": {
      "text/plain": [
       "5.0"
      ]
     },
     "execution_count": 33,
     "metadata": {},
     "output_type": "execute_result"
    }
   ],
   "source": [
    "v.real"
   ]
  },
  {
   "cell_type": "code",
   "execution_count": 34,
   "id": "ef82ae07-d070-48ce-82ec-916ded5df91a",
   "metadata": {},
   "outputs": [
    {
     "data": {
      "text/plain": [
       "8.0"
      ]
     },
     "execution_count": 34,
     "metadata": {},
     "output_type": "execute_result"
    }
   ],
   "source": [
    "v.imag"
   ]
  },
  {
   "cell_type": "code",
   "execution_count": 35,
   "id": "f345672c-9ee3-44c2-97e0-3181aaf0e05c",
   "metadata": {},
   "outputs": [
    {
     "data": {
      "text/plain": [
       "(5+8j)"
      ]
     },
     "execution_count": 35,
     "metadata": {},
     "output_type": "execute_result"
    }
   ],
   "source": [
    "v"
   ]
  },
  {
   "cell_type": "code",
   "execution_count": 36,
   "id": "a5ede77b-c6e6-4e5d-b8c9-d3106d9ceb5d",
   "metadata": {},
   "outputs": [
    {
     "name": "stdout",
     "output_type": "stream",
     "text": [
      "My name is Tapish\n"
     ]
    }
   ],
   "source": [
    "print(\"My name is Tapish\")"
   ]
  },
  {
   "cell_type": "code",
   "execution_count": 38,
   "id": "27a59fdb-1b12-4df4-bdc5-d1b5dd463fd2",
   "metadata": {},
   "outputs": [
    {
     "name": "stdout",
     "output_type": "stream",
     "text": [
      "(5+8j)\n"
     ]
    }
   ],
   "source": [
    "print(v)"
   ]
  },
  {
   "cell_type": "code",
   "execution_count": 39,
   "id": "38b92974-7b5e-46a7-a1cc-2f762579fe35",
   "metadata": {},
   "outputs": [],
   "source": [
    "s = \"codeunraveled\""
   ]
  },
  {
   "cell_type": "code",
   "execution_count": 40,
   "id": "a5a07254-081b-4d5c-840c-1385cd0fac7b",
   "metadata": {},
   "outputs": [
    {
     "data": {
      "text/plain": [
       "'codeunraveled'"
      ]
     },
     "execution_count": 40,
     "metadata": {},
     "output_type": "execute_result"
    }
   ],
   "source": [
    "s"
   ]
  },
  {
   "cell_type": "code",
   "execution_count": 41,
   "id": "8a73af2c-3e6b-4d3f-93f2-1a0d0d208ff8",
   "metadata": {},
   "outputs": [
    {
     "data": {
      "text/plain": [
       "str"
      ]
     },
     "execution_count": 41,
     "metadata": {},
     "output_type": "execute_result"
    }
   ],
   "source": [
    "type(s)"
   ]
  },
  {
   "cell_type": "code",
   "execution_count": null,
   "id": "368fc7fa-dfc5-4bbc-b1a3-91d19550f18d",
   "metadata": {},
   "outputs": [],
   "source": [
    "s[0]"
   ]
  },
  {
   "cell_type": "code",
   "execution_count": 43,
   "id": "208251ee-0e05-459e-bd86-310e8e6d96e6",
   "metadata": {},
   "outputs": [
    {
     "data": {
      "text/plain": [
       "'d'"
      ]
     },
     "execution_count": 43,
     "metadata": {},
     "output_type": "execute_result"
    }
   ],
   "source": [
    "s[2]"
   ]
  },
  {
   "cell_type": "code",
   "execution_count": 44,
   "id": "13b27c8f-592b-489a-a569-5aeff4be1dd0",
   "metadata": {},
   "outputs": [
    {
     "data": {
      "text/plain": [
       "'l'"
      ]
     },
     "execution_count": 44,
     "metadata": {},
     "output_type": "execute_result"
    }
   ],
   "source": [
    "s[-3]"
   ]
  },
  {
   "cell_type": "code",
   "execution_count": 45,
   "id": "791078ae-4c52-4359-ab0b-c5c087b5b738",
   "metadata": {},
   "outputs": [
    {
     "data": {
      "text/plain": [
       "'r'"
      ]
     },
     "execution_count": 45,
     "metadata": {},
     "output_type": "execute_result"
    }
   ],
   "source": [
    "s[-7]"
   ]
  },
  {
   "cell_type": "code",
   "execution_count": 47,
   "id": "89690c02-9e59-44d7-bbe3-3785dd64efdc",
   "metadata": {},
   "outputs": [
    {
     "data": {
      "text/plain": [
       "'co'"
      ]
     },
     "execution_count": 47,
     "metadata": {},
     "output_type": "execute_result"
    }
   ],
   "source": [
    "s[0:2] #slicing"
   ]
  },
  {
   "cell_type": "code",
   "execution_count": 48,
   "id": "cf7e2965-f1d8-4dad-8bf0-1e766eabc152",
   "metadata": {},
   "outputs": [
    {
     "data": {
      "text/plain": [
       "'codeun'"
      ]
     },
     "execution_count": 48,
     "metadata": {},
     "output_type": "execute_result"
    }
   ],
   "source": [
    "s[0:6]"
   ]
  },
  {
   "cell_type": "code",
   "execution_count": 54,
   "id": "e60c2041-db8c-4c32-941d-0009a100166c",
   "metadata": {},
   "outputs": [
    {
     "data": {
      "text/plain": [
       "'cdurvld'"
      ]
     },
     "execution_count": 54,
     "metadata": {},
     "output_type": "execute_result"
    }
   ],
   "source": [
    "s[0::2] #string[index:index:jump=1(by default)]"
   ]
  },
  {
   "cell_type": "code",
   "execution_count": 55,
   "id": "5ac0e26b-1d92-476c-9e75-137ac513b674",
   "metadata": {},
   "outputs": [
    {
     "data": {
      "text/plain": [
       "'cdurvld'"
      ]
     },
     "execution_count": 55,
     "metadata": {},
     "output_type": "execute_result"
    }
   ],
   "source": [
    "s[::2]"
   ]
  },
  {
   "cell_type": "code",
   "execution_count": 56,
   "id": "7fad07c6-f789-4a9a-9f61-d14818bd1ab7",
   "metadata": {},
   "outputs": [
    {
     "data": {
      "text/plain": [
       "'delevarnuedoc'"
      ]
     },
     "execution_count": 56,
     "metadata": {},
     "output_type": "execute_result"
    }
   ],
   "source": [
    "s[::-1] #print in reverse order"
   ]
  },
  {
   "cell_type": "code",
   "execution_count": 57,
   "id": "ab868a0d-3d0e-43fd-b461-4dc9aede1c52",
   "metadata": {},
   "outputs": [
    {
     "data": {
      "text/plain": [
       "''"
      ]
     },
     "execution_count": 57,
     "metadata": {},
     "output_type": "execute_result"
    }
   ],
   "source": [
    "s[2:7:-1]"
   ]
  },
  {
   "cell_type": "code",
   "execution_count": 58,
   "id": "88ec7dd0-5442-447c-a48e-0c70fe6a563d",
   "metadata": {},
   "outputs": [
    {
     "data": {
      "text/plain": [
       "'varnuedo'"
      ]
     },
     "execution_count": 58,
     "metadata": {},
     "output_type": "execute_result"
    }
   ],
   "source": [
    "s[8:0:-1]"
   ]
  },
  {
   "cell_type": "code",
   "execution_count": 59,
   "id": "9af067ee-7df1-4fd9-9c90-8dcea0f10c76",
   "metadata": {},
   "outputs": [
    {
     "data": {
      "text/plain": [
       "''"
      ]
     },
     "execution_count": 59,
     "metadata": {},
     "output_type": "execute_result"
    }
   ],
   "source": [
    "s[8:0]"
   ]
  },
  {
   "cell_type": "code",
   "execution_count": null,
   "id": "3407899c-f1ef-4319-8054-932d12251ab9",
   "metadata": {},
   "outputs": [
    {
     "data": {
      "text/plain": [
       "'elevar'"
      ]
     },
     "execution_count": 60,
     "metadata": {},
     "output_type": "execute_result"
    }
   ],
   "source": [
    " s[-2:-8:-1]"
   ]
  },
  {
   "cell_type": "code",
   "execution_count": 62,
   "id": "7d287d4b-20eb-4936-b525-2e52ff72f782",
   "metadata": {},
   "outputs": [
    {
     "data": {
      "text/plain": [
       "'delevarnuedoc'"
      ]
     },
     "execution_count": 62,
     "metadata": {},
     "output_type": "execute_result"
    }
   ],
   "source": [
    "s[::-1]"
   ]
  },
  {
   "cell_type": "code",
   "execution_count": 63,
   "id": "8915ae4e-31c0-4ffb-b5d5-3d8eb9068a85",
   "metadata": {},
   "outputs": [
    {
     "data": {
      "text/plain": [
       "''"
      ]
     },
     "execution_count": 63,
     "metadata": {},
     "output_type": "execute_result"
    }
   ],
   "source": [
    "s[:-90:]"
   ]
  },
  {
   "cell_type": "code",
   "execution_count": 64,
   "id": "e5489ef7-80c3-4fdb-a34f-9e15324d6ca4",
   "metadata": {},
   "outputs": [
    {
     "data": {
      "text/plain": [
       "'delevarnuedoc'"
      ]
     },
     "execution_count": 64,
     "metadata": {},
     "output_type": "execute_result"
    }
   ],
   "source": [
    "s[:-90:-1]"
   ]
  },
  {
   "cell_type": "code",
   "execution_count": 65,
   "id": "3af491eb-8ea9-4af7-b878-6b07bbf9f097",
   "metadata": {},
   "outputs": [],
   "source": [
    "c = 200;"
   ]
  },
  {
   "cell_type": "code",
   "execution_count": 66,
   "id": "bad0906c-0ede-4c91-8b92-bd7be0d13847",
   "metadata": {},
   "outputs": [],
   "source": [
    "sl = \"this is my notebook\""
   ]
  },
  {
   "cell_type": "code",
   "execution_count": 67,
   "id": "857c2cbf-433d-4394-b9cd-fa6c3c553841",
   "metadata": {},
   "outputs": [
    {
     "data": {
      "text/plain": [
       "19"
      ]
     },
     "execution_count": 67,
     "metadata": {},
     "output_type": "execute_result"
    }
   ],
   "source": [
    "len(sl)"
   ]
  },
  {
   "cell_type": "code",
   "execution_count": 68,
   "id": "aaa48e84-7007-4629-a1c9-c928f03c5554",
   "metadata": {},
   "outputs": [
    {
     "data": {
      "text/plain": [
       "3"
      ]
     },
     "execution_count": 68,
     "metadata": {},
     "output_type": "execute_result"
    }
   ],
   "source": [
    "sl.find('s')"
   ]
  },
  {
   "cell_type": "code",
   "execution_count": 71,
   "id": "d03cfd2f-bb46-4c48-814c-8570524a02f4",
   "metadata": {},
   "outputs": [
    {
     "data": {
      "text/plain": [
       "2"
      ]
     },
     "execution_count": 71,
     "metadata": {},
     "output_type": "execute_result"
    }
   ],
   "source": [
    "sl.count('s')"
   ]
  },
  {
   "cell_type": "code",
   "execution_count": 72,
   "id": "4d123305-8a89-4801-b69a-28c24e60ad35",
   "metadata": {},
   "outputs": [
    {
     "data": {
      "text/plain": [
       "-1"
      ]
     },
     "execution_count": 72,
     "metadata": {},
     "output_type": "execute_result"
    }
   ],
   "source": [
    "sl.find('iS')"
   ]
  },
  {
   "cell_type": "code",
   "execution_count": 73,
   "id": "c1271533-545d-419f-bb91-0e2eb8aa029d",
   "metadata": {},
   "outputs": [
    {
     "data": {
      "text/plain": [
       "'codeunraveled'"
      ]
     },
     "execution_count": 73,
     "metadata": {},
     "output_type": "execute_result"
    }
   ],
   "source": [
    "s"
   ]
  },
  {
   "cell_type": "code",
   "execution_count": 74,
   "id": "370f23a3-f2b1-4a28-b7d7-e48b9ac86aad",
   "metadata": {},
   "outputs": [
    {
     "data": {
      "text/plain": [
       "'This is my notebook'"
      ]
     },
     "execution_count": 74,
     "metadata": {},
     "output_type": "execute_result"
    }
   ],
   "source": [
    "sl.capitalize()"
   ]
  },
  {
   "cell_type": "code",
   "execution_count": 76,
   "id": "74c4cc8d-ff1e-463d-8772-24e4d01fa717",
   "metadata": {},
   "outputs": [
    {
     "data": {
      "text/plain": [
       "'This Is My Notebook'"
      ]
     },
     "execution_count": 76,
     "metadata": {},
     "output_type": "execute_result"
    }
   ],
   "source": [
    "sl.title()"
   ]
  },
  {
   "cell_type": "code",
   "execution_count": 75,
   "id": "e0a8812d-efb9-4904-9fcf-ccaee6638522",
   "metadata": {},
   "outputs": [
    {
     "data": {
      "text/plain": [
       "'THIS IS MY NOTEBOOK'"
      ]
     },
     "execution_count": 75,
     "metadata": {},
     "output_type": "execute_result"
    }
   ],
   "source": [
    "sl.upper()"
   ]
  },
  {
   "cell_type": "code",
   "execution_count": 77,
   "id": "5b8beb9c-2799-46b7-9580-691c236dba8a",
   "metadata": {},
   "outputs": [
    {
     "data": {
      "text/plain": [
       "'this is my notebook'"
      ]
     },
     "execution_count": 77,
     "metadata": {},
     "output_type": "execute_result"
    }
   ],
   "source": [
    "sl.lower()"
   ]
  },
  {
   "cell_type": "code",
   "execution_count": 78,
   "id": "14be6dbb-f387-43d3-85ca-3765a7ef1a8f",
   "metadata": {},
   "outputs": [
    {
     "data": {
      "text/plain": [
       "'codeunraveled'"
      ]
     },
     "execution_count": 78,
     "metadata": {},
     "output_type": "execute_result"
    }
   ],
   "source": [
    "s"
   ]
  },
  {
   "cell_type": "code",
   "execution_count": 79,
   "id": "393540a5-0e14-4e3e-b9f9-52d066e75f13",
   "metadata": {},
   "outputs": [
    {
     "data": {
      "text/plain": [
       "'codeunraveledtapish'"
      ]
     },
     "execution_count": 79,
     "metadata": {},
     "output_type": "execute_result"
    }
   ],
   "source": [
    "s + \"tapish\""
   ]
  },
  {
   "cell_type": "code",
   "execution_count": 80,
   "id": "2d33d899-e04f-4d09-ac47-f199bf6a1deb",
   "metadata": {},
   "outputs": [
    {
     "data": {
      "text/plain": [
       "'codeunraveled1'"
      ]
     },
     "execution_count": 80,
     "metadata": {},
     "output_type": "execute_result"
    }
   ],
   "source": [
    "s + \"1\""
   ]
  },
  {
   "cell_type": "code",
   "execution_count": 81,
   "id": "84649f41-4b2c-4e00-8867-632554cc841b",
   "metadata": {},
   "outputs": [
    {
     "data": {
      "text/plain": [
       "'codeunraveled1'"
      ]
     },
     "execution_count": 81,
     "metadata": {},
     "output_type": "execute_result"
    }
   ],
   "source": [
    "s+str(1)"
   ]
  },
  {
   "cell_type": "code",
   "execution_count": 82,
   "id": "ccfdc644-73ed-40eb-98bc-44bb5f6529c9",
   "metadata": {},
   "outputs": [
    {
     "data": {
      "text/plain": [
       "'codeunraveledthis is my notebook'"
      ]
     },
     "execution_count": 82,
     "metadata": {},
     "output_type": "execute_result"
    }
   ],
   "source": [
    "s+sl"
   ]
  },
  {
   "cell_type": "code",
   "execution_count": 83,
   "id": "9dca9148-e208-4f43-b648-d18a9c208dd0",
   "metadata": {},
   "outputs": [
    {
     "data": {
      "text/plain": [
       "'codeunraveledcodeunraveledcodeunraveled'"
      ]
     },
     "execution_count": 83,
     "metadata": {},
     "output_type": "execute_result"
    }
   ],
   "source": [
    "s*3"
   ]
  },
  {
   "cell_type": "code",
   "execution_count": 84,
   "id": "a9c508ee-f93f-4faa-be85-96eb4e28ad99",
   "metadata": {},
   "outputs": [
    {
     "ename": "TypeError",
     "evalue": "unsupported operand type(s) for /: 'str' and 'int'",
     "output_type": "error",
     "traceback": [
      "\u001b[0;31m---------------------------------------------------------------------------\u001b[0m",
      "\u001b[0;31mTypeError\u001b[0m                                 Traceback (most recent call last)",
      "Cell \u001b[0;32mIn[84], line 1\u001b[0m\n\u001b[0;32m----> 1\u001b[0m \u001b[43ms\u001b[49m\u001b[38;5;241;43m/\u001b[39;49m\u001b[38;5;241;43m4\u001b[39;49m\n",
      "\u001b[0;31mTypeError\u001b[0m: unsupported operand type(s) for /: 'str' and 'int'"
     ]
    }
   ],
   "source": [
    "s/4"
   ]
  },
  {
   "cell_type": "code",
   "execution_count": 85,
   "id": "aae40cca-56fd-48fb-a732-914572ce84f2",
   "metadata": {},
   "outputs": [
    {
     "data": {
      "text/plain": [
       "'this is my notebookthis is my notebookthis is my notebookthis is my notebook'"
      ]
     },
     "execution_count": 85,
     "metadata": {},
     "output_type": "execute_result"
    }
   ],
   "source": [
    "sl*4"
   ]
  },
  {
   "cell_type": "code",
   "execution_count": 87,
   "id": "3ba7defe-4cb7-4232-9c33-1884769525bd",
   "metadata": {},
   "outputs": [
    {
     "ename": "SyntaxError",
     "evalue": "unterminated string literal (detected at line 1) (1678705523.py, line 1)",
     "output_type": "error",
     "traceback": [
      "\u001b[0;36m  Cell \u001b[0;32mIn[87], line 1\u001b[0;36m\u001b[0m\n\u001b[0;31m    'don't do copy pasre in class'\u001b[0m\n\u001b[0m                                 ^\u001b[0m\n\u001b[0;31mSyntaxError\u001b[0m\u001b[0;31m:\u001b[0m unterminated string literal (detected at line 1)\n"
     ]
    }
   ],
   "source": [
    "'don't do copy pasre in class'"
   ]
  },
  {
   "cell_type": "code",
   "execution_count": 86,
   "id": "2ac4fd8a-0cca-47ea-b3cc-8bc70833c65a",
   "metadata": {},
   "outputs": [
    {
     "data": {
      "text/plain": [
       "\"don't do copy pasre in class\""
      ]
     },
     "execution_count": 86,
     "metadata": {},
     "output_type": "execute_result"
    }
   ],
   "source": [
    "\"don't do copy pasre in class\""
   ]
  },
  {
   "cell_type": "code",
   "execution_count": 88,
   "id": "a0fcde78-19be-478c-9749-42d0419ea4e6",
   "metadata": {},
   "outputs": [
    {
     "data": {
      "text/plain": [
       "'Hey My name is Tapish rawat\\ni m 4th year student of galgotias univeristy\\nhey meet you soon'"
      ]
     },
     "execution_count": 88,
     "metadata": {},
     "output_type": "execute_result"
    }
   ],
   "source": [
    "\"\"\"Hey My name is Tapish rawat\n",
    "i m 4th year student of galgotias univeristy\n",
    "hey meet you soon\"\"\""
   ]
  },
  {
   "cell_type": "code",
   "execution_count": 89,
   "id": "56f2ad93-e849-4c4c-934a-e34db3ea3144",
   "metadata": {},
   "outputs": [],
   "source": [
    "s2 = \"\"\"Hey My name is Tapish rawat\n",
    "i m 4th year student of galgotias univeristy\n",
    "hey meet you soon\"\"\""
   ]
  },
  {
   "cell_type": "code",
   "execution_count": 90,
   "id": "8db68000-1d78-4eb9-b9fd-91a19b4d84fc",
   "metadata": {},
   "outputs": [
    {
     "data": {
      "text/plain": [
       "'Hey My name is Tapish rawat\\ni m 4th year student of galgotias univeristy\\nhey meet you soon'"
      ]
     },
     "execution_count": 90,
     "metadata": {},
     "output_type": "execute_result"
    }
   ],
   "source": [
    "s2"
   ]
  },
  {
   "cell_type": "code",
   "execution_count": null,
   "id": "94cdfc4e-39c0-498c-b018-0f5ad1ecbaa5",
   "metadata": {},
   "outputs": [],
   "source": []
  }
 ],
 "metadata": {
  "kernelspec": {
   "display_name": "Python 3 (ipykernel)",
   "language": "python",
   "name": "python3"
  },
  "language_info": {
   "codemirror_mode": {
    "name": "ipython",
    "version": 3
   },
   "file_extension": ".py",
   "mimetype": "text/x-python",
   "name": "python",
   "nbconvert_exporter": "python",
   "pygments_lexer": "ipython3",
   "version": "3.10.8"
  }
 },
 "nbformat": 4,
 "nbformat_minor": 5
}
