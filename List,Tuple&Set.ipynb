{
 "cells": [
  {
   "cell_type": "code",
   "execution_count": null,
   "id": "68d9ae09-1839-4625-ae0a-f2ad2594fba5",
   "metadata": {},
   "outputs": [],
   "source": [
    "#LIST"
   ]
  },
  {
   "cell_type": "code",
   "execution_count": 2,
   "id": "927ae64e-1f67-4919-a862-2f557350d5f0",
   "metadata": {},
   "outputs": [],
   "source": [
    "l = [1,324,45,\"tapis\",True,5+5j,354.453]"
   ]
  },
  {
   "cell_type": "code",
   "execution_count": 3,
   "id": "0aed05bc-c18e-47d7-a3c6-24030e09c0a2",
   "metadata": {},
   "outputs": [
    {
     "data": {
      "text/plain": [
       "list"
      ]
     },
     "execution_count": 3,
     "metadata": {},
     "output_type": "execute_result"
    }
   ],
   "source": [
    "type(l)"
   ]
  },
  {
   "cell_type": "code",
   "execution_count": 4,
   "id": "724d510c-b6c1-49c5-b56b-13f834ed0bef",
   "metadata": {},
   "outputs": [
    {
     "data": {
      "text/plain": [
       "324"
      ]
     },
     "execution_count": 4,
     "metadata": {},
     "output_type": "execute_result"
    }
   ],
   "source": [
    "l[1]"
   ]
  },
  {
   "cell_type": "code",
   "execution_count": 6,
   "id": "4f39883e-c4c5-4e25-a47e-9af09b7e5907",
   "metadata": {},
   "outputs": [
    {
     "data": {
      "text/plain": [
       "'tapis'"
      ]
     },
     "execution_count": 6,
     "metadata": {},
     "output_type": "execute_result"
    }
   ],
   "source": [
    "l[3]"
   ]
  },
  {
   "cell_type": "code",
   "execution_count": 7,
   "id": "69ac7b4b-dbce-440e-952a-15de6f7b707a",
   "metadata": {},
   "outputs": [
    {
     "ename": "IndexError",
     "evalue": "list index out of range",
     "output_type": "error",
     "traceback": [
      "\u001b[0;31m---------------------------------------------------------------------------\u001b[0m",
      "\u001b[0;31mIndexError\u001b[0m                                Traceback (most recent call last)",
      "Cell \u001b[0;32mIn[7], line 1\u001b[0m\n\u001b[0;32m----> 1\u001b[0m \u001b[43ml\u001b[49m\u001b[43m[\u001b[49m\u001b[38;5;241;43m90\u001b[39;49m\u001b[43m]\u001b[49m\n",
      "\u001b[0;31mIndexError\u001b[0m: list index out of range"
     ]
    }
   ],
   "source": [
    "l[90]"
   ]
  },
  {
   "cell_type": "code",
   "execution_count": 8,
   "id": "af082b2f-45d7-49a0-9f86-f3c705a5551b",
   "metadata": {},
   "outputs": [
    {
     "data": {
      "text/plain": [
       "[1, 324, 45, 'tapis', True, (5+5j), 354.453]"
      ]
     },
     "execution_count": 8,
     "metadata": {},
     "output_type": "execute_result"
    }
   ],
   "source": [
    "l"
   ]
  },
  {
   "cell_type": "code",
   "execution_count": 9,
   "id": "1ded1d0d-a378-46a8-9f95-0cf3a947681c",
   "metadata": {},
   "outputs": [
    {
     "data": {
      "text/plain": [
       "45"
      ]
     },
     "execution_count": 9,
     "metadata": {},
     "output_type": "execute_result"
    }
   ],
   "source": [
    "l[-5]"
   ]
  },
  {
   "cell_type": "code",
   "execution_count": 10,
   "id": "5e4750cb-e9a0-470b-befd-c275727ca598",
   "metadata": {},
   "outputs": [
    {
     "data": {
      "text/plain": [
       "[1, 324, 45, 'tapis', True, (5+5j), 354.453]"
      ]
     },
     "execution_count": 10,
     "metadata": {},
     "output_type": "execute_result"
    }
   ],
   "source": [
    "l"
   ]
  },
  {
   "cell_type": "code",
   "execution_count": 11,
   "id": "2467e85e-0baf-4b24-a85b-a5135771dc2b",
   "metadata": {},
   "outputs": [
    {
     "data": {
      "text/plain": [
       "[1, 324, 45]"
      ]
     },
     "execution_count": 11,
     "metadata": {},
     "output_type": "execute_result"
    }
   ],
   "source": [
    "l[0:3]"
   ]
  },
  {
   "cell_type": "code",
   "execution_count": 12,
   "id": "c3f34aa3-17f1-4a36-aa80-c7de8c001d19",
   "metadata": {},
   "outputs": [
    {
     "data": {
      "text/plain": [
       "[1, 324, 45, 'tapis', True, (5+5j), 354.453]"
      ]
     },
     "execution_count": 12,
     "metadata": {},
     "output_type": "execute_result"
    }
   ],
   "source": [
    "l[::]"
   ]
  },
  {
   "cell_type": "code",
   "execution_count": 13,
   "id": "b6ad20a2-5bb2-49cf-8b6f-3a0238fb5022",
   "metadata": {},
   "outputs": [
    {
     "data": {
      "text/plain": [
       "354.453"
      ]
     },
     "execution_count": 13,
     "metadata": {},
     "output_type": "execute_result"
    }
   ],
   "source": [
    "l[-1]"
   ]
  },
  {
   "cell_type": "code",
   "execution_count": 14,
   "id": "475749be-77aa-487a-8585-e64127c85f29",
   "metadata": {},
   "outputs": [
    {
     "data": {
      "text/plain": [
       "[354.453, (5+5j), True, 'tapis', 45, 324, 1]"
      ]
     },
     "execution_count": 14,
     "metadata": {},
     "output_type": "execute_result"
    }
   ],
   "source": [
    "l[::-1]"
   ]
  },
  {
   "cell_type": "code",
   "execution_count": 15,
   "id": "f0276b35-789c-4c8a-ae49-d5a90cc7fae1",
   "metadata": {},
   "outputs": [],
   "source": [
    "s = \"TapishRawat\""
   ]
  },
  {
   "cell_type": "code",
   "execution_count": 16,
   "id": "a99b5198-cae6-4303-9e19-a31b23db0c41",
   "metadata": {},
   "outputs": [
    {
     "ename": "TypeError",
     "evalue": "can only concatenate list (not \"str\") to list",
     "output_type": "error",
     "traceback": [
      "\u001b[0;31m---------------------------------------------------------------------------\u001b[0m",
      "\u001b[0;31mTypeError\u001b[0m                                 Traceback (most recent call last)",
      "Cell \u001b[0;32mIn[16], line 1\u001b[0m\n\u001b[0;32m----> 1\u001b[0m \u001b[43ml\u001b[49m\u001b[38;5;241;43m+\u001b[39;49m\u001b[43ms\u001b[49m\n",
      "\u001b[0;31mTypeError\u001b[0m: can only concatenate list (not \"str\") to list"
     ]
    }
   ],
   "source": [
    "l+s"
   ]
  },
  {
   "cell_type": "code",
   "execution_count": 17,
   "id": "cd79ed4a-072f-4582-93e2-460fff187d62",
   "metadata": {},
   "outputs": [
    {
     "data": {
      "text/plain": [
       "['T', 'a', 'p', 'i', 's', 'h', 'R', 'a', 'w', 'a', 't']"
      ]
     },
     "execution_count": 17,
     "metadata": {},
     "output_type": "execute_result"
    }
   ],
   "source": [
    "list(s)"
   ]
  },
  {
   "cell_type": "code",
   "execution_count": 19,
   "id": "4f169561-0f43-4671-8fc6-8ed28c6c2245",
   "metadata": {},
   "outputs": [
    {
     "data": {
      "text/plain": [
       "['T',\n",
       " 'a',\n",
       " 'p',\n",
       " 'i',\n",
       " 's',\n",
       " 'h',\n",
       " 'R',\n",
       " 'a',\n",
       " 'w',\n",
       " 'a',\n",
       " 't',\n",
       " 1,\n",
       " 324,\n",
       " 45,\n",
       " 'tapis',\n",
       " True,\n",
       " (5+5j),\n",
       " 354.453]"
      ]
     },
     "execution_count": 19,
     "metadata": {},
     "output_type": "execute_result"
    }
   ],
   "source": [
    "list(s)+l"
   ]
  },
  {
   "cell_type": "code",
   "execution_count": 20,
   "id": "b62af893-6b73-4f5b-9d4b-d14ce3bc744f",
   "metadata": {},
   "outputs": [
    {
     "data": {
      "text/plain": [
       "[1, 324, 45, 'tapis', True, (5+5j), 354.453]"
      ]
     },
     "execution_count": 20,
     "metadata": {},
     "output_type": "execute_result"
    }
   ],
   "source": [
    "l"
   ]
  },
  {
   "cell_type": "code",
   "execution_count": 21,
   "id": "962f96cb-764a-454a-b469-dba802dee882",
   "metadata": {},
   "outputs": [
    {
     "data": {
      "text/plain": [
       "'tapis'"
      ]
     },
     "execution_count": 21,
     "metadata": {},
     "output_type": "execute_result"
    }
   ],
   "source": [
    "l[3]"
   ]
  },
  {
   "cell_type": "code",
   "execution_count": 22,
   "id": "6b30a129-17a3-4876-8d87-04bdc6aa6627",
   "metadata": {},
   "outputs": [
    {
     "data": {
      "text/plain": [
       "list"
      ]
     },
     "execution_count": 22,
     "metadata": {},
     "output_type": "execute_result"
    }
   ],
   "source": [
    "type([3])"
   ]
  },
  {
   "cell_type": "code",
   "execution_count": 23,
   "id": "5ea8c7d0-daee-488c-9c40-a01c71fd493b",
   "metadata": {},
   "outputs": [
    {
     "data": {
      "text/plain": [
       "'ta'"
      ]
     },
     "execution_count": 23,
     "metadata": {},
     "output_type": "execute_result"
    }
   ],
   "source": [
    "l[3][0:2]"
   ]
  },
  {
   "cell_type": "code",
   "execution_count": 24,
   "id": "57f8a0e6-9ad1-4b55-b49c-78a7d4f3b8d8",
   "metadata": {},
   "outputs": [
    {
     "data": {
      "text/plain": [
       "True"
      ]
     },
     "execution_count": 24,
     "metadata": {},
     "output_type": "execute_result"
    }
   ],
   "source": [
    "l[4]"
   ]
  },
  {
   "cell_type": "code",
   "execution_count": 26,
   "id": "cebe6de6-fae0-4f97-9048-56f1db1c5850",
   "metadata": {},
   "outputs": [
    {
     "data": {
      "text/plain": [
       "'Tr'"
      ]
     },
     "execution_count": 26,
     "metadata": {},
     "output_type": "execute_result"
    }
   ],
   "source": [
    "str(l[4])[0:2]"
   ]
  },
  {
   "cell_type": "code",
   "execution_count": 27,
   "id": "1b0969bb-aeaa-4799-b653-58f0fdc0b694",
   "metadata": {},
   "outputs": [
    {
     "ename": "TypeError",
     "evalue": "can only concatenate list (not \"int\") to list",
     "output_type": "error",
     "traceback": [
      "\u001b[0;31m---------------------------------------------------------------------------\u001b[0m",
      "\u001b[0;31mTypeError\u001b[0m                                 Traceback (most recent call last)",
      "Cell \u001b[0;32mIn[27], line 1\u001b[0m\n\u001b[0;32m----> 1\u001b[0m \u001b[43ml\u001b[49m\u001b[43m \u001b[49m\u001b[38;5;241;43m+\u001b[39;49m\u001b[43m \u001b[49m\u001b[38;5;241;43m5\u001b[39;49m\n",
      "\u001b[0;31mTypeError\u001b[0m: can only concatenate list (not \"int\") to list"
     ]
    }
   ],
   "source": [
    "l + 5"
   ]
  },
  {
   "cell_type": "code",
   "execution_count": 28,
   "id": "c89531e1-ec81-4737-ab71-84131712b752",
   "metadata": {},
   "outputs": [],
   "source": [
    "l1 = [3,4,5]"
   ]
  },
  {
   "cell_type": "code",
   "execution_count": 29,
   "id": "ceb3ae55-f5af-442e-ab63-f984ce4f00f8",
   "metadata": {},
   "outputs": [
    {
     "data": {
      "text/plain": [
       "[1, 324, 45, 'tapis', True, (5+5j), 354.453, 3, 4, 5]"
      ]
     },
     "execution_count": 29,
     "metadata": {},
     "output_type": "execute_result"
    }
   ],
   "source": [
    "l+l1"
   ]
  },
  {
   "cell_type": "code",
   "execution_count": 30,
   "id": "3ddffcee-21f9-483a-996e-95e98dc06d30",
   "metadata": {},
   "outputs": [
    {
     "data": {
      "text/plain": [
       "[3, 4, 5, 3, 4, 5, 3, 4, 5]"
      ]
     },
     "execution_count": 30,
     "metadata": {},
     "output_type": "execute_result"
    }
   ],
   "source": [
    "l1*3"
   ]
  },
  {
   "cell_type": "code",
   "execution_count": 31,
   "id": "a814e842-2e4a-415b-8a9f-728045e174c6",
   "metadata": {},
   "outputs": [
    {
     "data": {
      "text/plain": [
       "[1, 324, 45, 'tapis', True, (5+5j), 354.453]"
      ]
     },
     "execution_count": 31,
     "metadata": {},
     "output_type": "execute_result"
    }
   ],
   "source": [
    "l"
   ]
  },
  {
   "cell_type": "code",
   "execution_count": 33,
   "id": "827cf8b0-3e66-4349-bec1-aef7c360c4ac",
   "metadata": {},
   "outputs": [
    {
     "data": {
      "text/plain": [
       "7"
      ]
     },
     "execution_count": 33,
     "metadata": {},
     "output_type": "execute_result"
    }
   ],
   "source": [
    "len(l)"
   ]
  },
  {
   "cell_type": "code",
   "execution_count": 34,
   "id": "da39b25d-f5ff-49cd-92e7-afa48be4119d",
   "metadata": {},
   "outputs": [
    {
     "data": {
      "text/plain": [
       "[1, 324, 45, 'tapis', True, (5+5j), 354.453]"
      ]
     },
     "execution_count": 34,
     "metadata": {},
     "output_type": "execute_result"
    }
   ],
   "source": [
    "l"
   ]
  },
  {
   "cell_type": "code",
   "execution_count": 35,
   "id": "b64d6c0c-a1ae-47ca-8d8f-88358a70c420",
   "metadata": {},
   "outputs": [],
   "source": [
    "l.append(5)"
   ]
  },
  {
   "cell_type": "code",
   "execution_count": 36,
   "id": "f1d2dc4c-6913-4fdc-a32e-4ee8c4be89af",
   "metadata": {},
   "outputs": [
    {
     "data": {
      "text/plain": [
       "[1, 324, 45, 'tapis', True, (5+5j), 354.453, 5]"
      ]
     },
     "execution_count": 36,
     "metadata": {},
     "output_type": "execute_result"
    }
   ],
   "source": [
    "l"
   ]
  },
  {
   "cell_type": "code",
   "execution_count": 38,
   "id": "faa2c409-6fc3-4a53-8ae5-98cc4453603d",
   "metadata": {},
   "outputs": [],
   "source": [
    "l.append(s)"
   ]
  },
  {
   "cell_type": "code",
   "execution_count": 39,
   "id": "0e852e6a-9cbd-4ea6-84fb-93043d2e7f63",
   "metadata": {},
   "outputs": [
    {
     "data": {
      "text/plain": [
       "[1, 45, 324, 'tapis', True, (5+5j), 354.453, 5, 'TapishRawat']"
      ]
     },
     "execution_count": 39,
     "metadata": {},
     "output_type": "execute_result"
    }
   ],
   "source": [
    "l"
   ]
  },
  {
   "cell_type": "code",
   "execution_count": 41,
   "id": "c40c2eb7-40d8-4de4-aa18-ba5a2aead4be",
   "metadata": {},
   "outputs": [],
   "source": [
    "l.append(l1)"
   ]
  },
  {
   "cell_type": "code",
   "execution_count": 42,
   "id": "30389000-1435-48c6-8e74-d32334d75431",
   "metadata": {},
   "outputs": [
    {
     "data": {
      "text/plain": [
       "[1, 45, 324, 'tapis', True, (5+5j), 354.453, 5, 'TapishRawat', [3, 4, 5]]"
      ]
     },
     "execution_count": 42,
     "metadata": {},
     "output_type": "execute_result"
    }
   ],
   "source": [
    "l"
   ]
  },
  {
   "cell_type": "code",
   "execution_count": 43,
   "id": "04dcb2b7-3c69-4432-ae4d-dfdfb8b84501",
   "metadata": {},
   "outputs": [
    {
     "data": {
      "text/plain": [
       "[3, 4, 5]"
      ]
     },
     "execution_count": 43,
     "metadata": {},
     "output_type": "execute_result"
    }
   ],
   "source": [
    "l[-1]"
   ]
  },
  {
   "cell_type": "code",
   "execution_count": 44,
   "id": "6e16f72d-1db1-46eb-8d8c-856f23552076",
   "metadata": {},
   "outputs": [
    {
     "data": {
      "text/plain": [
       "4"
      ]
     },
     "execution_count": 44,
     "metadata": {},
     "output_type": "execute_result"
    }
   ],
   "source": [
    "l[-1][1]"
   ]
  },
  {
   "cell_type": "code",
   "execution_count": 45,
   "id": "77f0eb65-9bc9-4582-9909-87eacd6e0633",
   "metadata": {},
   "outputs": [
    {
     "ename": "TypeError",
     "evalue": "'int' object is not iterable",
     "output_type": "error",
     "traceback": [
      "\u001b[0;31m---------------------------------------------------------------------------\u001b[0m",
      "\u001b[0;31mTypeError\u001b[0m                                 Traceback (most recent call last)",
      "Cell \u001b[0;32mIn[45], line 1\u001b[0m\n\u001b[0;32m----> 1\u001b[0m \u001b[43ml\u001b[49m\u001b[38;5;241;43m.\u001b[39;49m\u001b[43mextend\u001b[49m\u001b[43m(\u001b[49m\u001b[38;5;241;43m4\u001b[39;49m\u001b[43m)\u001b[49m\n",
      "\u001b[0;31mTypeError\u001b[0m: 'int' object is not iterable"
     ]
    }
   ],
   "source": [
    "l.extend(4)"
   ]
  },
  {
   "cell_type": "code",
   "execution_count": 46,
   "id": "3a0a61ad-fe99-4a80-8456-a195d0284569",
   "metadata": {},
   "outputs": [],
   "source": [
    "l.extend(\"tapish\")"
   ]
  },
  {
   "cell_type": "code",
   "execution_count": 47,
   "id": "d1493c9d-3cfc-4deb-bec9-f88b01bb5ca2",
   "metadata": {},
   "outputs": [
    {
     "data": {
      "text/plain": [
       "[1,\n",
       " 45,\n",
       " 324,\n",
       " 'tapis',\n",
       " True,\n",
       " (5+5j),\n",
       " 354.453,\n",
       " 5,\n",
       " 'TapishRawat',\n",
       " [3, 4, 5],\n",
       " 't',\n",
       " 'a',\n",
       " 'p',\n",
       " 'i',\n",
       " 's',\n",
       " 'h']"
      ]
     },
     "execution_count": 47,
     "metadata": {},
     "output_type": "execute_result"
    }
   ],
   "source": [
    "l"
   ]
  },
  {
   "cell_type": "code",
   "execution_count": 48,
   "id": "ba463821-2fd2-4ba2-ba70-9f6bd2ab559d",
   "metadata": {},
   "outputs": [],
   "source": [
    "l.extend([3,2,3])"
   ]
  },
  {
   "cell_type": "code",
   "execution_count": 49,
   "id": "f958d1dd-0008-4b15-ac90-45a08f9424a8",
   "metadata": {},
   "outputs": [
    {
     "data": {
      "text/plain": [
       "[1,\n",
       " 45,\n",
       " 324,\n",
       " 'tapis',\n",
       " True,\n",
       " (5+5j),\n",
       " 354.453,\n",
       " 5,\n",
       " 'TapishRawat',\n",
       " [3, 4, 5],\n",
       " 't',\n",
       " 'a',\n",
       " 'p',\n",
       " 'i',\n",
       " 's',\n",
       " 'h',\n",
       " 3,\n",
       " 2,\n",
       " 3]"
      ]
     },
     "execution_count": 49,
     "metadata": {},
     "output_type": "execute_result"
    }
   ],
   "source": [
    "l"
   ]
  },
  {
   "cell_type": "code",
   "execution_count": 50,
   "id": "a68cfd33-290d-4ecd-b476-cfad0f8c0659",
   "metadata": {},
   "outputs": [
    {
     "data": {
      "text/plain": [
       "[3, 4, 5]"
      ]
     },
     "execution_count": 50,
     "metadata": {},
     "output_type": "execute_result"
    }
   ],
   "source": [
    "l1"
   ]
  },
  {
   "cell_type": "code",
   "execution_count": 51,
   "id": "17de527e-5562-42c2-b418-adefe89621e3",
   "metadata": {},
   "outputs": [],
   "source": [
    "l1.insert(1,\"Tapish\")"
   ]
  },
  {
   "cell_type": "code",
   "execution_count": 52,
   "id": "9b663ac2-fe86-4e4c-8447-b591a8b9235f",
   "metadata": {},
   "outputs": [
    {
     "data": {
      "text/plain": [
       "[3, 'Tapish', 4, 5]"
      ]
     },
     "execution_count": 52,
     "metadata": {},
     "output_type": "execute_result"
    }
   ],
   "source": [
    "l1"
   ]
  },
  {
   "cell_type": "code",
   "execution_count": 53,
   "id": "a3c4eac4-8794-46fe-b53b-7133c7ae660f",
   "metadata": {},
   "outputs": [],
   "source": [
    "l1.insert(3,[1,2,3,4])"
   ]
  },
  {
   "cell_type": "code",
   "execution_count": 54,
   "id": "81f402bc-b1ca-450a-9f7f-19e4fa71ef28",
   "metadata": {},
   "outputs": [
    {
     "data": {
      "text/plain": [
       "[3, 'Tapish', 4, [1, 2, 3, 4], 5]"
      ]
     },
     "execution_count": 54,
     "metadata": {},
     "output_type": "execute_result"
    }
   ],
   "source": [
    "l1"
   ]
  },
  {
   "cell_type": "code",
   "execution_count": 55,
   "id": "816d57b5-3bb7-4129-a09a-7f56e1bfee4a",
   "metadata": {},
   "outputs": [],
   "source": [
    "l1.insert(-1,45)"
   ]
  },
  {
   "cell_type": "code",
   "execution_count": 56,
   "id": "d8ae8260-59f6-451c-87e3-a894e73e5fcd",
   "metadata": {},
   "outputs": [
    {
     "data": {
      "text/plain": [
       "[3, 'Tapish', 4, [1, 2, 3, 4], 45, 5]"
      ]
     },
     "execution_count": 56,
     "metadata": {},
     "output_type": "execute_result"
    }
   ],
   "source": [
    "l1"
   ]
  },
  {
   "cell_type": "code",
   "execution_count": 57,
   "id": "e9962f10-acee-480c-bd49-b6ff053c8619",
   "metadata": {},
   "outputs": [
    {
     "data": {
      "text/plain": [
       "5"
      ]
     },
     "execution_count": 57,
     "metadata": {},
     "output_type": "execute_result"
    }
   ],
   "source": [
    "l1.pop()"
   ]
  },
  {
   "cell_type": "code",
   "execution_count": 58,
   "id": "28e036c0-952b-4b3c-b892-77e78bbf65f7",
   "metadata": {},
   "outputs": [
    {
     "data": {
      "text/plain": [
       "[3, 'Tapish', 4, [1, 2, 3, 4], 45]"
      ]
     },
     "execution_count": 58,
     "metadata": {},
     "output_type": "execute_result"
    }
   ],
   "source": [
    "l1"
   ]
  },
  {
   "cell_type": "code",
   "execution_count": 59,
   "id": "3e74bcd0-6c4d-4c1b-af99-5c3ac2daa75d",
   "metadata": {},
   "outputs": [
    {
     "data": {
      "text/plain": [
       "45"
      ]
     },
     "execution_count": 59,
     "metadata": {},
     "output_type": "execute_result"
    }
   ],
   "source": [
    "l1.pop()"
   ]
  },
  {
   "cell_type": "code",
   "execution_count": 60,
   "id": "c187a8a9-1868-4cbe-bba5-509fa23f53c9",
   "metadata": {},
   "outputs": [
    {
     "data": {
      "text/plain": [
       "[3, 'Tapish', 4, [1, 2, 3, 4]]"
      ]
     },
     "execution_count": 60,
     "metadata": {},
     "output_type": "execute_result"
    }
   ],
   "source": [
    "l1"
   ]
  },
  {
   "cell_type": "code",
   "execution_count": 61,
   "id": "4943c5c6-7054-4357-b48f-4f0b54bc5dc1",
   "metadata": {},
   "outputs": [
    {
     "data": {
      "text/plain": [
       "4"
      ]
     },
     "execution_count": 61,
     "metadata": {},
     "output_type": "execute_result"
    }
   ],
   "source": [
    "l1.pop(2)"
   ]
  },
  {
   "cell_type": "code",
   "execution_count": 62,
   "id": "b79d2814-21a2-4041-9bbf-7b6c1a261192",
   "metadata": {},
   "outputs": [
    {
     "data": {
      "text/plain": [
       "[3, 'Tapish', [1, 2, 3, 4]]"
      ]
     },
     "execution_count": 62,
     "metadata": {},
     "output_type": "execute_result"
    }
   ],
   "source": [
    "l1"
   ]
  },
  {
   "cell_type": "code",
   "execution_count": 64,
   "id": "a204e050-5a6c-48c9-9b4f-59c7c939332c",
   "metadata": {},
   "outputs": [],
   "source": [
    "l1.remove(3)"
   ]
  },
  {
   "cell_type": "code",
   "execution_count": 65,
   "id": "e8d1f4dd-fa10-48a0-a25a-011fc822a08c",
   "metadata": {},
   "outputs": [
    {
     "data": {
      "text/plain": [
       "['Tapish', [1, 2, 3, 4]]"
      ]
     },
     "execution_count": 65,
     "metadata": {},
     "output_type": "execute_result"
    }
   ],
   "source": [
    "l1"
   ]
  },
  {
   "cell_type": "code",
   "execution_count": 67,
   "id": "edc3f9d3-6641-40c2-9bff-c5f773a664a5",
   "metadata": {},
   "outputs": [
    {
     "ename": "ValueError",
     "evalue": "list.remove(x): x not in list",
     "output_type": "error",
     "traceback": [
      "\u001b[0;31m---------------------------------------------------------------------------\u001b[0m",
      "\u001b[0;31mValueError\u001b[0m                                Traceback (most recent call last)",
      "Cell \u001b[0;32mIn[67], line 1\u001b[0m\n\u001b[0;32m----> 1\u001b[0m \u001b[43ml1\u001b[49m\u001b[38;5;241;43m.\u001b[39;49m\u001b[43mremove\u001b[49m\u001b[43m(\u001b[49m\u001b[38;5;241;43m2340\u001b[39;49m\u001b[43m)\u001b[49m\n",
      "\u001b[0;31mValueError\u001b[0m: list.remove(x): x not in list"
     ]
    }
   ],
   "source": [
    "l1.remove(2340)"
   ]
  },
  {
   "cell_type": "code",
   "execution_count": 68,
   "id": "94e6d82e-cce2-490a-9e87-8dc7a53f3360",
   "metadata": {},
   "outputs": [],
   "source": [
    "l1[1].remove(3)"
   ]
  },
  {
   "cell_type": "code",
   "execution_count": 69,
   "id": "512884b5-bb5e-4afa-a659-8dbab4bdd164",
   "metadata": {},
   "outputs": [
    {
     "data": {
      "text/plain": [
       "['Tapish', [1, 2, 4]]"
      ]
     },
     "execution_count": 69,
     "metadata": {},
     "output_type": "execute_result"
    }
   ],
   "source": [
    "l1"
   ]
  },
  {
   "cell_type": "code",
   "execution_count": 70,
   "id": "85989393-b6bb-4343-adf0-9dc3c42c8d0a",
   "metadata": {},
   "outputs": [
    {
     "data": {
      "text/plain": [
       "[[1, 2, 4], 'Tapish']"
      ]
     },
     "execution_count": 70,
     "metadata": {},
     "output_type": "execute_result"
    }
   ],
   "source": [
    "l1[::-1]"
   ]
  },
  {
   "cell_type": "code",
   "execution_count": 71,
   "id": "9b13b99c-913c-4285-ba66-03c2db24264f",
   "metadata": {},
   "outputs": [],
   "source": [
    "l1.reverse()"
   ]
  },
  {
   "cell_type": "code",
   "execution_count": 72,
   "id": "7fd48e87-1a90-414b-a605-1efaeb6987cd",
   "metadata": {},
   "outputs": [
    {
     "data": {
      "text/plain": [
       "[[1, 2, 4], 'Tapish']"
      ]
     },
     "execution_count": 72,
     "metadata": {},
     "output_type": "execute_result"
    }
   ],
   "source": [
    "l1"
   ]
  },
  {
   "cell_type": "code",
   "execution_count": 73,
   "id": "d2a62deb-94c2-4f20-b575-34467f64d3d0",
   "metadata": {},
   "outputs": [
    {
     "data": {
      "text/plain": [
       "['Tapish', [1, 2, 4]]"
      ]
     },
     "execution_count": 73,
     "metadata": {},
     "output_type": "execute_result"
    }
   ],
   "source": [
    "l1[::-1]"
   ]
  },
  {
   "cell_type": "code",
   "execution_count": 74,
   "id": "f334af4f-abd7-41e5-9695-5aa230fae7e3",
   "metadata": {},
   "outputs": [],
   "source": [
    "l2 = [2,5,32,7,4]"
   ]
  },
  {
   "cell_type": "code",
   "execution_count": 75,
   "id": "2eb8fdcb-a7cc-4d98-8c87-c73e03be613d",
   "metadata": {},
   "outputs": [],
   "source": [
    "l2.sort()"
   ]
  },
  {
   "cell_type": "code",
   "execution_count": 76,
   "id": "afc7fc39-4cd4-4934-9971-2e15c60baa74",
   "metadata": {},
   "outputs": [
    {
     "data": {
      "text/plain": [
       "[2, 4, 5, 7, 32]"
      ]
     },
     "execution_count": 76,
     "metadata": {},
     "output_type": "execute_result"
    }
   ],
   "source": [
    "l2"
   ]
  },
  {
   "cell_type": "code",
   "execution_count": 77,
   "id": "108d7025-9b1a-4a1c-bdff-98ee37fac585",
   "metadata": {},
   "outputs": [],
   "source": [
    "l3 = [\"tapish\",\"aman\",\"daksh\",\"yash\"]"
   ]
  },
  {
   "cell_type": "code",
   "execution_count": 80,
   "id": "b7aa9f02-f9ef-4ed7-bb71-4b0d96850a71",
   "metadata": {},
   "outputs": [],
   "source": [
    "l3.sort() #ascending order"
   ]
  },
  {
   "cell_type": "code",
   "execution_count": 81,
   "id": "7844f839-a24a-429c-917a-26798e23e27d",
   "metadata": {},
   "outputs": [
    {
     "data": {
      "text/plain": [
       "['aman', 'daksh', 'tapish', 'yash']"
      ]
     },
     "execution_count": 81,
     "metadata": {},
     "output_type": "execute_result"
    }
   ],
   "source": [
    "l3"
   ]
  },
  {
   "cell_type": "code",
   "execution_count": 78,
   "id": "6e7cbb2e-90f0-4ffd-aba9-ca94cefb4d24",
   "metadata": {},
   "outputs": [],
   "source": [
    "l3.sort(reverse=True) #descending order"
   ]
  },
  {
   "cell_type": "code",
   "execution_count": 79,
   "id": "460af235-e0fd-43ee-adf0-cf530a8e6259",
   "metadata": {},
   "outputs": [
    {
     "data": {
      "text/plain": [
       "['yash', 'tapish', 'daksh', 'aman']"
      ]
     },
     "execution_count": 79,
     "metadata": {},
     "output_type": "execute_result"
    }
   ],
   "source": [
    "l3"
   ]
  },
  {
   "cell_type": "code",
   "execution_count": 82,
   "id": "bc2541cb-7d55-4473-8989-d8506ec6c7c8",
   "metadata": {},
   "outputs": [
    {
     "data": {
      "text/plain": [
       "1"
      ]
     },
     "execution_count": 82,
     "metadata": {},
     "output_type": "execute_result"
    }
   ],
   "source": [
    "l3.index(\"daksh\")"
   ]
  },
  {
   "cell_type": "code",
   "execution_count": 83,
   "id": "a4362055-afd5-4957-95b9-cf92303cd30e",
   "metadata": {},
   "outputs": [
    {
     "data": {
      "text/plain": [
       "['aman', 'daksh', 'tapish', 'yash']"
      ]
     },
     "execution_count": 83,
     "metadata": {},
     "output_type": "execute_result"
    }
   ],
   "source": [
    "l3"
   ]
  },
  {
   "cell_type": "code",
   "execution_count": 84,
   "id": "fcdc8eab-784f-4260-a701-5c7b90726be5",
   "metadata": {},
   "outputs": [
    {
     "data": {
      "text/plain": [
       "1"
      ]
     },
     "execution_count": 84,
     "metadata": {},
     "output_type": "execute_result"
    }
   ],
   "source": [
    "l3.count(\"daksh\")"
   ]
  },
  {
   "cell_type": "code",
   "execution_count": null,
   "id": "91c17e9b-ff1f-4f02-a924-06c1bd13d1dd",
   "metadata": {},
   "outputs": [],
   "source": [
    "#Mutability : same place me uske inde ko access krke agar hum change kr skhty h vo mutable ha"
   ]
  },
  {
   "cell_type": "code",
   "execution_count": 85,
   "id": "3c7ef3e7-9a78-4d11-9bf3-f9be8fc62d7e",
   "metadata": {},
   "outputs": [],
   "source": [
    "s = \"tapu\" #strings are immutable"
   ]
  },
  {
   "cell_type": "code",
   "execution_count": 86,
   "id": "7ae3173a-28af-4500-aa71-a443ca97b56e",
   "metadata": {},
   "outputs": [],
   "source": [
    "l4 = [2,3,4,4,5] #list are mutable"
   ]
  },
  {
   "cell_type": "code",
   "execution_count": 87,
   "id": "cea65996-585c-4f0f-8ee0-8e92c542be36",
   "metadata": {},
   "outputs": [
    {
     "ename": "TypeError",
     "evalue": "'str' object does not support item assignment",
     "output_type": "error",
     "traceback": [
      "\u001b[0;31m---------------------------------------------------------------------------\u001b[0m",
      "\u001b[0;31mTypeError\u001b[0m                                 Traceback (most recent call last)",
      "Cell \u001b[0;32mIn[87], line 1\u001b[0m\n\u001b[0;32m----> 1\u001b[0m \u001b[43ms\u001b[49m\u001b[43m[\u001b[49m\u001b[38;5;241;43m0\u001b[39;49m\u001b[43m]\u001b[49m \u001b[38;5;241m=\u001b[39m \u001b[38;5;124m'\u001b[39m\u001b[38;5;124ma\u001b[39m\u001b[38;5;124m'\u001b[39m\n",
      "\u001b[0;31mTypeError\u001b[0m: 'str' object does not support item assignment"
     ]
    }
   ],
   "source": [
    "s[0] = 'a' "
   ]
  },
  {
   "cell_type": "code",
   "execution_count": 89,
   "id": "c4b4f26b-0700-4b90-8904-c03ab49da944",
   "metadata": {},
   "outputs": [
    {
     "data": {
      "text/plain": [
       "2"
      ]
     },
     "execution_count": 89,
     "metadata": {},
     "output_type": "execute_result"
    }
   ],
   "source": [
    "l4[0]"
   ]
  },
  {
   "cell_type": "code",
   "execution_count": 90,
   "id": "1c1d1bf8-8199-400b-b191-d0f25422eaad",
   "metadata": {},
   "outputs": [],
   "source": [
    "l4[0] = 30"
   ]
  },
  {
   "cell_type": "code",
   "execution_count": 91,
   "id": "a666f197-4032-40da-a621-03be4ab01a3f",
   "metadata": {},
   "outputs": [
    {
     "data": {
      "text/plain": [
       "[30, 3, 4, 4, 5]"
      ]
     },
     "execution_count": 91,
     "metadata": {},
     "output_type": "execute_result"
    }
   ],
   "source": [
    "l4"
   ]
  },
  {
   "cell_type": "code",
   "execution_count": 95,
   "id": "7f707e71-91a0-49d4-ace3-97489c611367",
   "metadata": {},
   "outputs": [
    {
     "data": {
      "text/plain": [
       "'taau'"
      ]
     },
     "execution_count": 95,
     "metadata": {},
     "output_type": "execute_result"
    }
   ],
   "source": [
    "s.replace('p','a') #new generate kia "
   ]
  },
  {
   "cell_type": "code",
   "execution_count": 97,
   "id": "ff4cc9f2-0dfa-425f-8ee5-5a2c6a95bdac",
   "metadata": {},
   "outputs": [
    {
     "data": {
      "text/plain": [
       "'tapu'"
      ]
     },
     "execution_count": 97,
     "metadata": {},
     "output_type": "execute_result"
    }
   ],
   "source": [
    "s #purana nhi badla"
   ]
  },
  {
   "cell_type": "code",
   "execution_count": 98,
   "id": "a3e33b15-7916-440e-9da1-81a7bb5d05b9",
   "metadata": {},
   "outputs": [],
   "source": [
    "#TUPLES"
   ]
  },
  {
   "cell_type": "code",
   "execution_count": 99,
   "id": "e17f4c26-3425-4a2c-92f6-be2b098ae920",
   "metadata": {},
   "outputs": [],
   "source": [
    "t = (2,3,6,\"tapish\",45.43,False,45+6j,[2,3,4])"
   ]
  },
  {
   "cell_type": "code",
   "execution_count": 100,
   "id": "bae71ea3-f97d-4388-a2ab-8da9d46bea5f",
   "metadata": {},
   "outputs": [
    {
     "data": {
      "text/plain": [
       "(2, 3, 6, 'tapish', 45.43, False, (45+6j), [2, 3, 4])"
      ]
     },
     "execution_count": 100,
     "metadata": {},
     "output_type": "execute_result"
    }
   ],
   "source": [
    "t"
   ]
  },
  {
   "cell_type": "code",
   "execution_count": 101,
   "id": "98c1677f-1ccd-45a5-8952-6f34e7eca461",
   "metadata": {},
   "outputs": [
    {
     "data": {
      "text/plain": [
       "tuple"
      ]
     },
     "execution_count": 101,
     "metadata": {},
     "output_type": "execute_result"
    }
   ],
   "source": [
    "type(t)"
   ]
  },
  {
   "cell_type": "code",
   "execution_count": 102,
   "id": "8771c169-71e0-489f-a98e-0b94cf00c7eb",
   "metadata": {},
   "outputs": [
    {
     "data": {
      "text/plain": [
       "8"
      ]
     },
     "execution_count": 102,
     "metadata": {},
     "output_type": "execute_result"
    }
   ],
   "source": [
    "len(t)"
   ]
  },
  {
   "cell_type": "code",
   "execution_count": 103,
   "id": "3af233b9-bbc7-46ef-b971-f30fe9209c63",
   "metadata": {},
   "outputs": [
    {
     "data": {
      "text/plain": [
       "2"
      ]
     },
     "execution_count": 103,
     "metadata": {},
     "output_type": "execute_result"
    }
   ],
   "source": [
    "t[0]"
   ]
  },
  {
   "cell_type": "code",
   "execution_count": 104,
   "id": "0f7407cb-960c-4c3e-9707-e3ea078af13f",
   "metadata": {},
   "outputs": [
    {
     "data": {
      "text/plain": [
       "[2, 3, 4]"
      ]
     },
     "execution_count": 104,
     "metadata": {},
     "output_type": "execute_result"
    }
   ],
   "source": [
    "t[-1]"
   ]
  },
  {
   "cell_type": "code",
   "execution_count": 105,
   "id": "dda9ae2e-6d42-4437-8f1c-cf48446cdfb1",
   "metadata": {},
   "outputs": [
    {
     "data": {
      "text/plain": [
       "([2, 3, 4], (45+6j), False, 45.43, 'tapish', 6, 3, 2)"
      ]
     },
     "execution_count": 105,
     "metadata": {},
     "output_type": "execute_result"
    }
   ],
   "source": [
    "t[::-1]"
   ]
  },
  {
   "cell_type": "code",
   "execution_count": 106,
   "id": "58558262-11a4-4a0e-900f-0c3f5385bc54",
   "metadata": {},
   "outputs": [],
   "source": [
    "#difference b/w Tuples and lsit"
   ]
  },
  {
   "cell_type": "code",
   "execution_count": 109,
   "id": "4dabc0cb-3140-4708-8775-d8f4cf8a49c4",
   "metadata": {},
   "outputs": [
    {
     "data": {
      "text/plain": [
       "'aman'"
      ]
     },
     "execution_count": 109,
     "metadata": {},
     "output_type": "execute_result"
    }
   ],
   "source": [
    "l3[0]"
   ]
  },
  {
   "cell_type": "code",
   "execution_count": 111,
   "id": "e2b918ba-449a-4879-8fa8-2f0018411334",
   "metadata": {},
   "outputs": [],
   "source": [
    "l3[0] = 2123"
   ]
  },
  {
   "cell_type": "code",
   "execution_count": 112,
   "id": "9dc00127-529c-4bfd-85ef-825a06967c0e",
   "metadata": {},
   "outputs": [
    {
     "data": {
      "text/plain": [
       "[2123, 'daksh', 'tapish', 'yash']"
      ]
     },
     "execution_count": 112,
     "metadata": {},
     "output_type": "execute_result"
    }
   ],
   "source": [
    "l3"
   ]
  },
  {
   "cell_type": "code",
   "execution_count": 113,
   "id": "b65cfa5c-d390-4f06-a901-d48b214dd8e8",
   "metadata": {},
   "outputs": [
    {
     "data": {
      "text/plain": [
       "(2, 3, 6, 'tapish', 45.43, False, (45+6j), [2, 3, 4])"
      ]
     },
     "execution_count": 113,
     "metadata": {},
     "output_type": "execute_result"
    }
   ],
   "source": [
    "t"
   ]
  },
  {
   "cell_type": "code",
   "execution_count": 114,
   "id": "4b07e076-18ab-4684-9b1f-1f41fef7d156",
   "metadata": {},
   "outputs": [
    {
     "ename": "TypeError",
     "evalue": "'tuple' object does not support item assignment",
     "output_type": "error",
     "traceback": [
      "\u001b[0;31m---------------------------------------------------------------------------\u001b[0m",
      "\u001b[0;31mTypeError\u001b[0m                                 Traceback (most recent call last)",
      "Cell \u001b[0;32mIn[114], line 1\u001b[0m\n\u001b[0;32m----> 1\u001b[0m \u001b[43mt\u001b[49m\u001b[43m[\u001b[49m\u001b[38;5;241;43m0\u001b[39;49m\u001b[43m]\u001b[49m \u001b[38;5;241m=\u001b[39m \u001b[38;5;124m\"\u001b[39m\u001b[38;5;124mtapish\u001b[39m\u001b[38;5;124m\"\u001b[39m\n",
      "\u001b[0;31mTypeError\u001b[0m: 'tuple' object does not support item assignment"
     ]
    }
   ],
   "source": [
    "t[0] = \"tapish\" #tuples are immutables"
   ]
  },
  {
   "cell_type": "code",
   "execution_count": 115,
   "id": "cd975c67-04b0-4c96-9785-2c2fcd91ef6c",
   "metadata": {},
   "outputs": [
    {
     "data": {
      "text/plain": [
       "1"
      ]
     },
     "execution_count": 115,
     "metadata": {},
     "output_type": "execute_result"
    }
   ],
   "source": [
    "t.count(3)"
   ]
  },
  {
   "cell_type": "code",
   "execution_count": 116,
   "id": "f807d78a-5065-48b9-bdd9-12932bed247d",
   "metadata": {},
   "outputs": [
    {
     "data": {
      "text/plain": [
       "5"
      ]
     },
     "execution_count": 116,
     "metadata": {},
     "output_type": "execute_result"
    }
   ],
   "source": [
    "t.index(False)"
   ]
  },
  {
   "cell_type": "code",
   "execution_count": 117,
   "id": "57e81b5c-fc67-4369-9d80-3ff5e2fe4ac2",
   "metadata": {},
   "outputs": [],
   "source": [
    "#SET"
   ]
  },
  {
   "cell_type": "code",
   "execution_count": 120,
   "id": "f85b2aa8-69cb-4155-87e9-7319da72b318",
   "metadata": {},
   "outputs": [],
   "source": [
    "s1 = {} #blank curly brackets is dict"
   ]
  },
  {
   "cell_type": "code",
   "execution_count": 121,
   "id": "94bc9b45-f35d-4bda-90b1-cd40a6893369",
   "metadata": {},
   "outputs": [
    {
     "data": {
      "text/plain": [
       "dict"
      ]
     },
     "execution_count": 121,
     "metadata": {},
     "output_type": "execute_result"
    }
   ],
   "source": [
    "type(s1)"
   ]
  },
  {
   "cell_type": "code",
   "execution_count": 122,
   "id": "f5d0affb-0985-4b50-ad9b-e941e2770825",
   "metadata": {},
   "outputs": [],
   "source": [
    "s2 = {2,3,4,5,6} #valued curly bracket is SET"
   ]
  },
  {
   "cell_type": "code",
   "execution_count": 124,
   "id": "5daa4f05-08d9-4e83-8ab0-90315cc0aaed",
   "metadata": {},
   "outputs": [
    {
     "data": {
      "text/plain": [
       "set"
      ]
     },
     "execution_count": 124,
     "metadata": {},
     "output_type": "execute_result"
    }
   ],
   "source": [
    "type(s2)"
   ]
  },
  {
   "cell_type": "code",
   "execution_count": 125,
   "id": "433a8c93-a53f-49fc-ae0b-e2460ada73e2",
   "metadata": {},
   "outputs": [
    {
     "ename": "TypeError",
     "evalue": "unhashable type: 'list'",
     "output_type": "error",
     "traceback": [
      "\u001b[0;31m---------------------------------------------------------------------------\u001b[0m",
      "\u001b[0;31mTypeError\u001b[0m                                 Traceback (most recent call last)",
      "Cell \u001b[0;32mIn[125], line 1\u001b[0m\n\u001b[0;32m----> 1\u001b[0m s3 \u001b[38;5;241m=\u001b[39m {\u001b[38;5;241m123\u001b[39m,\u001b[38;5;241m345\u001b[39m,\u001b[38;5;124m\"\u001b[39m\u001b[38;5;124mtapish\u001b[39m\u001b[38;5;124m\"\u001b[39m,\u001b[38;5;241m23\u001b[39m\u001b[38;5;241m+\u001b[39m\u001b[38;5;241m4\u001b[39mj,\u001b[38;5;241m635.356\u001b[39m,[\u001b[38;5;241m2\u001b[39m,\u001b[38;5;241m3\u001b[39m,\u001b[38;5;241m4\u001b[39m]}\n",
      "\u001b[0;31mTypeError\u001b[0m: unhashable type: 'list'"
     ]
    }
   ],
   "source": [
    "s3 = {123,345,\"tapish\",23+4j,635.356,[2,3,4]}"
   ]
  },
  {
   "cell_type": "code",
   "execution_count": 126,
   "id": "f91a31f6-2566-44e7-bad3-698c095dc201",
   "metadata": {},
   "outputs": [],
   "source": [
    "s = {123,345,\"tapish\",23+4j,635.356,(2,3,4)}"
   ]
  },
  {
   "cell_type": "code",
   "execution_count": 127,
   "id": "6a09f040-dc15-4d0c-8281-7e899ee78cea",
   "metadata": {},
   "outputs": [],
   "source": [
    "#tuples set accpet krta ha List nhi"
   ]
  },
  {
   "cell_type": "code",
   "execution_count": 133,
   "id": "b198aacf-014a-4db8-8c63-52942dfa8db7",
   "metadata": {},
   "outputs": [],
   "source": [
    "s4 = {2,2,2,2,2,2,23,3,3,1,34,4,5,5,5,5,5,5,5,6,77,7}"
   ]
  },
  {
   "cell_type": "code",
   "execution_count": 134,
   "id": "684f481f-7bbc-4851-a4f6-d0d05f081d3f",
   "metadata": {},
   "outputs": [
    {
     "data": {
      "text/plain": [
       "{1, 2, 3, 4, 5, 6, 7, 23, 34, 77}"
      ]
     },
     "execution_count": 134,
     "metadata": {},
     "output_type": "execute_result"
    }
   ],
   "source": [
    "s4 #set ka nature h duplicate hatana"
   ]
  },
  {
   "cell_type": "code",
   "execution_count": 1,
   "id": "650dc0ba-d836-4c4c-8850-9c2447e99c23",
   "metadata": {},
   "outputs": [],
   "source": [
    "s4 = {2,2,2,2,2,2,23,3,3,1,34,4,5,5,5,5,5,5,5,6,77,7,\"tapu\"}"
   ]
  },
  {
   "cell_type": "code",
   "execution_count": 2,
   "id": "1103741a-b0b8-4b7f-959f-5e59cbaae613",
   "metadata": {},
   "outputs": [
    {
     "data": {
      "text/plain": [
       "{1, 2, 23, 3, 34, 4, 5, 6, 7, 77, 'tapu'}"
      ]
     },
     "execution_count": 2,
     "metadata": {},
     "output_type": "execute_result"
    }
   ],
   "source": [
    "s4"
   ]
  },
  {
   "cell_type": "code",
   "execution_count": 3,
   "id": "9422de2e-3f33-4938-8f1e-15fcf61a7799",
   "metadata": {},
   "outputs": [],
   "source": [
    "l6 = [2,2,2,2,2,2,23,3,3,1,34,4,5,5,5,5,5,5,5,6,77,7,\"tapu\"]"
   ]
  },
  {
   "cell_type": "code",
   "execution_count": 7,
   "id": "32dd27a4-4909-41e9-9001-0cf4059303f1",
   "metadata": {},
   "outputs": [],
   "source": [
    "l6 = list(set(l6))"
   ]
  },
  {
   "cell_type": "code",
   "execution_count": 8,
   "id": "04e02573-b209-4c72-a40e-01acf3cc1608",
   "metadata": {},
   "outputs": [
    {
     "data": {
      "text/plain": [
       "[1, 2, 3, 34, 4, 5, 6, 7, 77, 23, 'tapu']"
      ]
     },
     "execution_count": 8,
     "metadata": {},
     "output_type": "execute_result"
    }
   ],
   "source": [
    "l6"
   ]
  },
  {
   "cell_type": "code",
   "execution_count": 9,
   "id": "771d5ec0-8d71-4f58-91e2-929910a9b256",
   "metadata": {},
   "outputs": [],
   "source": [
    "s4.add(56)"
   ]
  },
  {
   "cell_type": "code",
   "execution_count": 10,
   "id": "2f5b9d2f-8dfb-43cc-a56d-84d9b5ed3db7",
   "metadata": {},
   "outputs": [
    {
     "data": {
      "text/plain": [
       "{1, 2, 23, 3, 34, 4, 5, 56, 6, 7, 77, 'tapu'}"
      ]
     },
     "execution_count": 10,
     "metadata": {},
     "output_type": "execute_result"
    }
   ],
   "source": [
    "s4"
   ]
  },
  {
   "cell_type": "code",
   "execution_count": 11,
   "id": "c6e30a14-f629-4fbf-ad27-ee9a2494630e",
   "metadata": {},
   "outputs": [],
   "source": [
    "s4.remove(2)"
   ]
  },
  {
   "cell_type": "code",
   "execution_count": 12,
   "id": "161a418b-bd9c-49c6-bf91-a56d9ea57a7f",
   "metadata": {},
   "outputs": [
    {
     "data": {
      "text/plain": [
       "{1, 23, 3, 34, 4, 5, 56, 6, 7, 77, 'tapu'}"
      ]
     },
     "execution_count": 12,
     "metadata": {},
     "output_type": "execute_result"
    }
   ],
   "source": [
    "s4"
   ]
  },
  {
   "cell_type": "code",
   "execution_count": null,
   "id": "7dac6e1d-91ec-48e3-b124-42bd2f0eb2e4",
   "metadata": {},
   "outputs": [],
   "source": []
  }
 ],
 "metadata": {
  "kernelspec": {
   "display_name": "Python 3 (ipykernel)",
   "language": "python",
   "name": "python3"
  },
  "language_info": {
   "codemirror_mode": {
    "name": "ipython",
    "version": 3
   },
   "file_extension": ".py",
   "mimetype": "text/x-python",
   "name": "python",
   "nbconvert_exporter": "python",
   "pygments_lexer": "ipython3",
   "version": "3.10.8"
  }
 },
 "nbformat": 4,
 "nbformat_minor": 5
}
